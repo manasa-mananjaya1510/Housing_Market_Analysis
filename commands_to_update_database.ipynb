{
 "cells": [
  {
   "cell_type": "code",
   "execution_count": 16,
   "id": "149b516a",
   "metadata": {},
   "outputs": [],
   "source": [
    "from pymongo import MongoClient\n",
    "import pymongo\n"
   ]
  },
  {
   "cell_type": "code",
   "execution_count": 17,
   "id": "75a067cd",
   "metadata": {},
   "outputs": [],
   "source": [
    "# establish connection to the mongodb\n",
    "client = MongoClient(\"mongodb://127.0.0.1:27017/\")   \n"
   ]
  },
  {
   "cell_type": "code",
   "execution_count": 18,
   "id": "c4b7cc90",
   "metadata": {},
   "outputs": [],
   "source": [
    "# retrieve the database and collections\n",
    "housing = client[\"housing\"]\n",
    "market = dbname[\"market\"]\n"
   ]
  },
  {
   "cell_type": "code",
   "execution_count": 33,
   "id": "3bfaee2a",
   "metadata": {},
   "outputs": [
    {
     "data": {
      "text/plain": [
       "['admin', 'config', 'housing', 'local']"
      ]
     },
     "execution_count": 33,
     "metadata": {},
     "output_type": "execute_result"
    }
   ],
   "source": [
    "# check if connection has beeen successfully established\n",
    "client.list_database_names()\n"
   ]
  },
  {
   "cell_type": "code",
   "execution_count": 50,
   "id": "0f96accc",
   "metadata": {},
   "outputs": [
    {
     "name": "stdout",
     "output_type": "stream",
     "text": [
      "{'_id': ObjectId('625affd5c3679393bb77621c'), 'period_begin': '6/1/20', 'period_end': '6/30/20', 'period_duration': 30, 'region_type': 'place', 'region_type_id': 6, 'table_id': 5243, 'is_seasonally_adjusted': 'f', 'region': 'Depew, NY', 'city': 'Depew', 'state': 'New York', 'state_code': 'NY', 'property_type': 'Multi-Family (2-4 Unit)', 'property_type_id': 4, 'median_sale_price': 285500, 'median_list_price': 182900, 'median_ppsf': 69.22280723, 'median_list_ppsf': 115.1084011, 'homes_sold': 2, 'pending_sales': 4, 'new_listings': 4, 'inventory': '', 'months_of_supply': '', 'median_dom': 16, 'avg_sale_to_list': 0.953461888, 'sold_above_list': 0, 'price_drops': '', 'off_market_in_two_weeks': 1, 'parent_metro_region': 'Buffalo, NY', 'parent_metro_region_metro_code': 15380, 'last_updated': '3/13/22 14:34'}\n",
      "{'_id': ObjectId('625affd5c3679393bb77621d'), 'period_begin': '9/1/14', 'period_end': '9/30/14', 'period_duration': 30, 'region_type': 'place', 'region_type_id': 6, 'table_id': 15186, 'is_seasonally_adjusted': 'f', 'region': 'Pendleton, IN', 'city': 'Pendleton', 'state': 'Indiana', 'state_code': 'IN', 'property_type': 'Condo/Co-op', 'property_type_id': 3, 'median_sale_price': 152000, 'median_list_price': '', 'median_ppsf': 108.2621083, 'median_list_ppsf': '', 'homes_sold': 1, 'pending_sales': '', 'new_listings': '', 'inventory': 2, 'months_of_supply': 2, 'median_dom': 161, 'avg_sale_to_list': 0.968152866, 'sold_above_list': 0, 'price_drops': '', 'off_market_in_two_weeks': '', 'parent_metro_region': 'Indianapolis, IN', 'parent_metro_region_metro_code': 26900, 'last_updated': '3/13/22 14:34'}\n"
     ]
    }
   ],
   "source": [
    "# search query - application reads data from the database\n",
    "for row in market.find().limit(2):\n",
    "    print(row)"
   ]
  },
  {
   "cell_type": "markdown",
   "id": "849535b2",
   "metadata": {},
   "source": [
    "# INSERT DATA"
   ]
  },
  {
   "cell_type": "code",
   "execution_count": 34,
   "id": "7bb151a0",
   "metadata": {},
   "outputs": [],
   "source": [
    "new_data = {\n",
    "    'period_begin': '7/1/20', \n",
    "    'period_end': '7/30/20', \n",
    "    'period_duration': {'$numberInt': 31}, \n",
    "    'region_type': 'place', 'region_type_id': {'$numberInt': 5}, \n",
    "    'table_id': {'$numberInt':5242}, \n",
    "    'is_seasonally_adjusted': 'f', \n",
    "    'region': 'Depew, NY', 'city': 'Depew', 'state': 'New York', 'state_code': 'NY', \n",
    "    'property_type': 'Multi-Family (2-4 Unit)', 'property_type_id': {'$numberInt': 4}, \n",
    "    'median_sale_price': {'$numberInt':175500}, 'median_list_price':{'$numberInt':182900}, \n",
    "    'median_ppsf':{'$numberDecimal': 69.22280723}, \n",
    "    'median_list_ppsf': {'$numberDecimal':115.1084011}, 'homes_sold': {'$numberInt': 2}, 'pending_sales': {'$numberInt': 4}, \n",
    "    'new_listings': {'$numberInt': 4}, 'inventory': '', 'months_of_supply': '', 'median_dom': {'$numberInt': 16}, \n",
    "    'avg_sale_to_list':{'$numberDecimal': 0.953461888}, 'sold_above_list': {'$numberInt': 0}, 'price_drops': '', \n",
    "    'off_market_in_two_weeks': {'$numberInt': 1}, 'parent_metro_region': 'Buffalo, NY', \n",
    "    'parent_metro_region_metro_code': {'$numberInt': 15380}, 'last_updated': '3/13/22 14:34'\n",
    "}"
   ]
  },
  {
   "cell_type": "code",
   "execution_count": 35,
   "id": "0504e453",
   "metadata": {},
   "outputs": [
    {
     "name": "stdout",
     "output_type": "stream",
     "text": [
      "625b07404afa392157c78c71\n"
     ]
    }
   ],
   "source": [
    "new = client.housing.market.insert_one(new_data)\n",
    "\n",
    "print(new.inserted_id)"
   ]
  },
  {
   "cell_type": "markdown",
   "id": "bd50a305",
   "metadata": {},
   "source": [
    "# DELETE DATA"
   ]
  },
  {
   "cell_type": "code",
   "execution_count": 37,
   "id": "d5a1166d",
   "metadata": {},
   "outputs": [
    {
     "data": {
      "text/plain": [
       "ObjectId('625b07404afa392157c78c71')"
      ]
     },
     "execution_count": 37,
     "metadata": {},
     "output_type": "execute_result"
    }
   ],
   "source": [
    "# data we'll be deleting\n",
    "del_id = new.inserted_id\n",
    "\n",
    "del_id"
   ]
  },
  {
   "cell_type": "code",
   "execution_count": 39,
   "id": "50ee0bad",
   "metadata": {},
   "outputs": [
    {
     "data": {
      "text/plain": [
       "{'_id': ObjectId('625b07404afa392157c78c71'),\n",
       " 'period_begin': '7/1/20',\n",
       " 'period_end': '7/30/20',\n",
       " 'period_duration': {'$numberInt': 31},\n",
       " 'region_type': 'place',\n",
       " 'region_type_id': {'$numberInt': 5},\n",
       " 'table_id': {'$numberInt': 5242},\n",
       " 'is_seasonally_adjusted': 'f',\n",
       " 'region': 'Depew, NY',\n",
       " 'city': 'Depew',\n",
       " 'state': 'New York',\n",
       " 'state_code': 'NY',\n",
       " 'property_type': 'Multi-Family (2-4 Unit)',\n",
       " 'property_type_id': {'$numberInt': 4},\n",
       " 'median_sale_price': {'$numberInt': 175500},\n",
       " 'median_list_price': {'$numberInt': 182900},\n",
       " 'median_ppsf': {'$numberDecimal': 69.22280723},\n",
       " 'median_list_ppsf': {'$numberDecimal': 115.1084011},\n",
       " 'homes_sold': {'$numberInt': 2},\n",
       " 'pending_sales': {'$numberInt': 4},\n",
       " 'new_listings': {'$numberInt': 4},\n",
       " 'inventory': '',\n",
       " 'months_of_supply': '',\n",
       " 'median_dom': {'$numberInt': 16},\n",
       " 'avg_sale_to_list': {'$numberDecimal': 0.953461888},\n",
       " 'sold_above_list': {'$numberInt': 0},\n",
       " 'price_drops': '',\n",
       " 'off_market_in_two_weeks': {'$numberInt': 1},\n",
       " 'parent_metro_region': 'Buffalo, NY',\n",
       " 'parent_metro_region_metro_code': {'$numberInt': 15380},\n",
       " 'last_updated': '3/13/22 14:34'}"
      ]
     },
     "execution_count": 39,
     "metadata": {},
     "output_type": "execute_result"
    }
   ],
   "source": [
    "market.find_one({'_id': del_id})\n",
    "# there is an entry with that id in the database"
   ]
  },
  {
   "cell_type": "code",
   "execution_count": 40,
   "id": "03b6cbe7",
   "metadata": {},
   "outputs": [
    {
     "data": {
      "text/plain": [
       "<pymongo.results.DeleteResult at 0x1d73ba307c0>"
      ]
     },
     "execution_count": 40,
     "metadata": {},
     "output_type": "execute_result"
    }
   ],
   "source": [
    "# delete query\n",
    "market.delete_one({ \"_id\": del_id })"
   ]
  },
  {
   "cell_type": "code",
   "execution_count": 42,
   "id": "a851cb4f",
   "metadata": {},
   "outputs": [],
   "source": [
    "market.find_one({'_id': del_id})\n",
    "# no data exists with this id"
   ]
  },
  {
   "cell_type": "markdown",
   "id": "d0eaaf75",
   "metadata": {},
   "source": [
    "# UPDATE DATA"
   ]
  },
  {
   "cell_type": "code",
   "execution_count": 47,
   "id": "0c9f15f6",
   "metadata": {},
   "outputs": [
    {
     "data": {
      "text/plain": [
       "{'_id': ObjectId('625affd5c3679393bb77621c'),\n",
       " 'period_begin': '6/1/20',\n",
       " 'period_end': '6/30/20',\n",
       " 'period_duration': 30,\n",
       " 'region_type': 'place',\n",
       " 'region_type_id': 6,\n",
       " 'table_id': 5243,\n",
       " 'is_seasonally_adjusted': 'f',\n",
       " 'region': 'Depew, NY',\n",
       " 'city': 'Depew',\n",
       " 'state': 'New York',\n",
       " 'state_code': 'NY',\n",
       " 'property_type': 'Multi-Family (2-4 Unit)',\n",
       " 'property_type_id': 4,\n",
       " 'median_sale_price': 175500,\n",
       " 'median_list_price': 182900,\n",
       " 'median_ppsf': 69.22280723,\n",
       " 'median_list_ppsf': 115.1084011,\n",
       " 'homes_sold': 2,\n",
       " 'pending_sales': 4,\n",
       " 'new_listings': 4,\n",
       " 'inventory': '',\n",
       " 'months_of_supply': '',\n",
       " 'median_dom': 16,\n",
       " 'avg_sale_to_list': 0.953461888,\n",
       " 'sold_above_list': 0,\n",
       " 'price_drops': '',\n",
       " 'off_market_in_two_weeks': 1,\n",
       " 'parent_metro_region': 'Buffalo, NY',\n",
       " 'parent_metro_region_metro_code': 15380,\n",
       " 'last_updated': '3/13/22 14:34'}"
      ]
     },
     "execution_count": 47,
     "metadata": {},
     "output_type": "execute_result"
    }
   ],
   "source": [
    "# update median_sale_price for a data\n",
    "\n",
    "market.find_one({\"median_sale_price\": 175500})"
   ]
  },
  {
   "cell_type": "code",
   "execution_count": 48,
   "id": "7019b239",
   "metadata": {},
   "outputs": [
    {
     "data": {
      "text/plain": [
       "<pymongo.results.UpdateResult at 0x1d73ba316f0>"
      ]
     },
     "execution_count": 48,
     "metadata": {},
     "output_type": "execute_result"
    }
   ],
   "source": [
    "# update query - update to a new value\n",
    "market.update_one({\"median_sale_price\": 175500},{\"$set\":{\"median_sale_price\": 285500}})"
   ]
  },
  {
   "cell_type": "code",
   "execution_count": 49,
   "id": "90f311bb",
   "metadata": {},
   "outputs": [
    {
     "data": {
      "text/plain": [
       "{'_id': ObjectId('625affd5c3679393bb77621c'),\n",
       " 'period_begin': '6/1/20',\n",
       " 'period_end': '6/30/20',\n",
       " 'period_duration': 30,\n",
       " 'region_type': 'place',\n",
       " 'region_type_id': 6,\n",
       " 'table_id': 5243,\n",
       " 'is_seasonally_adjusted': 'f',\n",
       " 'region': 'Depew, NY',\n",
       " 'city': 'Depew',\n",
       " 'state': 'New York',\n",
       " 'state_code': 'NY',\n",
       " 'property_type': 'Multi-Family (2-4 Unit)',\n",
       " 'property_type_id': 4,\n",
       " 'median_sale_price': 285500,\n",
       " 'median_list_price': 182900,\n",
       " 'median_ppsf': 69.22280723,\n",
       " 'median_list_ppsf': 115.1084011,\n",
       " 'homes_sold': 2,\n",
       " 'pending_sales': 4,\n",
       " 'new_listings': 4,\n",
       " 'inventory': '',\n",
       " 'months_of_supply': '',\n",
       " 'median_dom': 16,\n",
       " 'avg_sale_to_list': 0.953461888,\n",
       " 'sold_above_list': 0,\n",
       " 'price_drops': '',\n",
       " 'off_market_in_two_weeks': 1,\n",
       " 'parent_metro_region': 'Buffalo, NY',\n",
       " 'parent_metro_region_metro_code': 15380,\n",
       " 'last_updated': '3/13/22 14:34'}"
      ]
     },
     "execution_count": 49,
     "metadata": {},
     "output_type": "execute_result"
    }
   ],
   "source": [
    "# for the same object id, the median_sale_price value has been updated\n",
    "market.find_one({\"median_sale_price\": 285500})"
   ]
  },
  {
   "cell_type": "code",
   "execution_count": null,
   "id": "d5b6bbc8",
   "metadata": {},
   "outputs": [],
   "source": []
  }
 ],
 "metadata": {
  "kernelspec": {
   "display_name": "Python 3",
   "language": "python",
   "name": "python3"
  },
  "language_info": {
   "codemirror_mode": {
    "name": "ipython",
    "version": 3
   },
   "file_extension": ".py",
   "mimetype": "text/x-python",
   "name": "python",
   "nbconvert_exporter": "python",
   "pygments_lexer": "ipython3",
   "version": "3.8.8"
  }
 },
 "nbformat": 4,
 "nbformat_minor": 5
}
